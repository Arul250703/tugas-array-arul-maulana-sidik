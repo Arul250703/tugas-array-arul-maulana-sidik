{
 "cells": [
  {
   "cell_type": "markdown",
   "metadata": {},
   "source": [
    "# 1.membuat array"
   ]
  },
  {
   "cell_type": "code",
   "execution_count": 18,
   "metadata": {},
   "outputs": [
    {
     "name": "stdout",
     "output_type": "stream",
     "text": [
      "21\n"
     ]
    }
   ],
   "source": [
    "#import library array sebagai alias\n",
    "\n",
    "import array as arr\n",
    "arr_int = arr.array('i',[10,20,30,40,90,80])\n",
    "arr_bool = arr.array('i',[True,False])\n",
    "arr_tambah = arr_int[1] + arr_bool[0]\n",
    "print(arr_tambah)"
   ]
  },
  {
   "cell_type": "markdown",
   "metadata": {},
   "source": [
    "# 2.mengakses array"
   ]
  },
  {
   "cell_type": "code",
   "execution_count": 19,
   "metadata": {},
   "outputs": [
    {
     "name": "stdout",
     "output_type": "stream",
     "text": [
      "elemen array terakhir: 80\n",
      "10\n",
      "20\n",
      "30\n",
      "40\n",
      "90\n",
      "80\n",
      "--------------------------------\n",
      "10\n",
      "30\n",
      "60\n",
      "100\n",
      "190\n",
      "270\n",
      "nilai rata-rata: 45.0\n"
     ]
    }
   ],
   "source": [
    "pjg_array = len(arr_int)\n",
    "print(\"elemen array terakhir:\",arr_int[pjg_array-1])\n",
    "\n",
    "#Looping mengakses nilai elemen tanpa mengetahui indeks\n",
    "for i in arr_int:\n",
    "    print(i)\n",
    "print('--------------------------------')  \n",
    "#looping mengakses nilai elemen dengan paramter indeks\n",
    "total = 0\n",
    "for j in range(pjg_array):\n",
    "    total = total + arr_int[j]\n",
    "    print(total)\n",
    "rata2 = total / pjg_array\n",
    "print(f\"nilai rata-rata: {rata2}\")"
   ]
  },
  {
   "cell_type": "markdown",
   "metadata": {},
   "source": [
    "# 3.menambah array"
   ]
  },
  {
   "cell_type": "code",
   "execution_count": 20,
   "metadata": {},
   "outputs": [
    {
     "name": "stdout",
     "output_type": "stream",
     "text": [
      "array('i', [10, 20, 30, 66, 40, 90, 80])\n"
     ]
    }
   ],
   "source": [
    "posisi = 3\n",
    "nilai = 66\n",
    "arr_int.insert(posisi,nilai)\n",
    "print(arr_int)"
   ]
  },
  {
   "cell_type": "markdown",
   "metadata": {},
   "source": [
    "# 4. Mengupdate Array"
   ]
  },
  {
   "cell_type": "code",
   "execution_count": 21,
   "metadata": {},
   "outputs": [
    {
     "name": "stdout",
     "output_type": "stream",
     "text": [
      "array('i', [80, 20, 30, 66, 40, 90, 80])\n"
     ]
    }
   ],
   "source": [
    "arr_int[0] = 80\n",
    "print(arr_int)"
   ]
  },
  {
   "cell_type": "markdown",
   "metadata": {},
   "source": [
    "# 5.menghapus array"
   ]
  },
  {
   "cell_type": "code",
   "execution_count": 22,
   "metadata": {},
   "outputs": [
    {
     "name": "stdout",
     "output_type": "stream",
     "text": [
      "array('i', [80, 20, 30, 66, 40, 90])\n"
     ]
    }
   ],
   "source": [
    "#arr_int.remove(80)\n",
    "#print(arr_int)\n",
    "\n",
    "arr_int.pop()\n",
    "print(arr_int)"
   ]
  },
  {
   "cell_type": "markdown",
   "metadata": {},
   "source": [
    "# 6.mencari array"
   ]
  },
  {
   "cell_type": "code",
   "execution_count": 23,
   "metadata": {},
   "outputs": [
    {
     "data": {
      "text/plain": [
       "2"
      ]
     },
     "execution_count": 23,
     "metadata": {},
     "output_type": "execute_result"
    }
   ],
   "source": [
    "arr_int.index(30)"
   ]
  },
  {
   "cell_type": "markdown",
   "metadata": {},
   "source": [
    "###### Ltihan soal\n",
    "\n",
    "1.Sebuah kamar kost di daerah cisaat terdiri dari 1 lantai dan 10 kamar. Pemilik kost menandai kamar dengan tanda 'O' jika ada   penghuninya dan tanda 'X' jika masih kosong. Reperesentasikan permasalahan tersebut dimana kamar yang sudah terisi adalah       kamar 2,4,7 dan 9.\n"
   ]
  },
  {
   "cell_type": "code",
   "execution_count": 24,
   "metadata": {},
   "outputs": [
    {
     "name": "stdout",
     "output_type": "stream",
     "text": [
      "array('u', 'XOXOXXOXOX')\n"
     ]
    }
   ],
   "source": [
    "#Your Code here\n",
    "kamar = arr.array('u',['X','X','X','X','X','X','X','X','X','X'])\n",
    "kamar[1]='O'\n",
    "kamar[3]='O'\n",
    "kamar[6]='O'\n",
    "kamar[8]='O'\n",
    "print(kamar)"
   ]
  },
  {
   "cell_type": "markdown",
   "metadata": {},
   "source": [
    "2.Berdasarkan soal 1, hitunglah berapa jumlah kamar yang masih kosong dan sebutkan kamar nomor berapa saja!"
   ]
  },
  {
   "cell_type": "code",
   "execution_count": 25,
   "metadata": {},
   "outputs": [
    {
     "name": "stdout",
     "output_type": "stream",
     "text": [
      "Kamar yang masih kosong sebanyak 6\n",
      "Bilangan Prima\n"
     ]
    }
   ],
   "source": [
    "#Your Code here\n",
    "total = 0\n",
    "for i in kamar:\n",
    "    if i =='X':\n",
    "        total = total + 1\n",
    "\n",
    "print(f\"Kamar yang masih kosong sebanyak {total}\")\n",
    "\n",
    "#Mengecek bilangan prima atau bukan\n",
    "\n",
    "bilangan = 19\n",
    "jml_0 = 0\n",
    "for i in range (bilangan):\n",
    "    sisa = bilangan % (i+1)\n",
    "    if sisa == 0:\n",
    "        jml_0 = jml_0 + 1\n",
    "if jml_0==2:\n",
    "    print(\"Bilangan Prima\")\n",
    "else:\n",
    "    print(\"Bukan Prima\")"
   ]
  },
  {
   "cell_type": "markdown",
   "metadata": {},
   "source": [
    " 3.pada tahun 20022 pemilik kos ingin mengubah fungsi kamar kos menjadi rumah pribadi,sehinga kamar kos tersebut          dirobohkan.representasikan permasalahan tersebut ke dalam fungsi array"
   ]
  },
  {
   "cell_type": "code",
   "execution_count": 26,
   "metadata": {},
   "outputs": [
    {
     "name": "stdout",
     "output_type": "stream",
     "text": [
      "array('u', 'XOXOXXOXOX')\n",
      "array('u')\n"
     ]
    }
   ],
   "source": [
    "#Your code here\n",
    "print(kamar)\n",
    "\n",
    "for i in range(len(kamar)):\n",
    "    kamar.pop()\n",
    "print(kamar)"
   ]
  },
  {
   "cell_type": "markdown",
   "metadata": {},
   "source": [
    "4.  Seorang penjual tahu menata raknya seperti berikut ini:\n",
    "[10,10,10,10,10,10,10,10,10,10]\n",
    "Setiap 1 tahu dijual dengan harga 1_000. Buatlah implementasi program yang mempunyai input uang dan jumlah tahu yang akan dibeli. Contoh input outputnya seperti berikut ini:\n",
    "input uang : 100_000\n",
    "jumlah tahu yang akan dibeli: 20\n",
    "\n",
    "Output:\n",
    "Total harga yang dibeli : 20_000\n",
    "Uang Kembali : 80_000\n",
    "Sisa Tahu : 80\n",
    "Posisi Akhir Rak : [0,0,10,10,10,10,10,10,10,10]"
   ]
  },
  {
   "cell_type": "code",
   "execution_count": 34,
   "metadata": {},
   "outputs": [
    {
     "name": "stdout",
     "output_type": "stream",
     "text": [
      "berapa uang yang akan di bayarkan: 20000\n",
      "berapa tahu yang akan di beli: 80000\n",
      "stok tidak mencukupi\n"
     ]
    }
   ],
   "source": [
    "#Your code here\n",
    "Stok_tahu=[10,10,10,10,10,10,10,10,10,10]\n",
    "harga=1000\n",
    "Jumlah_pembayaran=int(input('berapa uang yang akan di bayarkan: '))\n",
    "Jumlah_tahu_yang_dibeli=int(input('berapa tahu yang akan di beli: '))\n",
    "\n",
    "\n",
    "\n",
    "total_tahu_didapat=Jumlah_pembayaran/harga\n",
    "if Jumlah_tahu_yang_dibeli >= (len(Stok_tahu)*10):\n",
    "    print('stok tidak mencukupi')\n",
    "\n",
    "else:\n",
    "    print('stok tersedia')\n",
    "    total_harga=Jumlah_tahu_yang_dibeli*1000\n",
    "    \n",
    "    if Jumlah_pembayaran >= total_harga:\n",
    "        if True:\n",
    "            if Jumlah_tahu_yang_dibeli <= 10:\n",
    "                Stok_tahu[0]=Stok_tahu[0]-Jumlah_tahu_yang_dibeli\n",
    "                print(Stok_tahu)\n",
    "            elif Jumlah_tahu_yang_dibeli<= 20:\n",
    "                print('sisa tahu: ',(len(Stok_tahu)*10)-Jumlah_tahu_yang_dibeli)\n",
    "                Jumlah_tahu_yang_dibeli=Jumlah_tahu_yang_dibeli-10\n",
    "                Stok_tahu[0]=0\n",
    "                Stok_tahu[1]=Stok_tahu[1]-Jumlah_tahu_yang_dibeli\n",
    "                print('total harga: ',total_harga)\n",
    "                print('jumlah kembalian: ',Jumlah_pembayaran-total_harga)\n",
    "                print(Stok_tahu)"
   ]
  }
 ],
 "metadata": {
  "kernelspec": {
   "display_name": "Python 3",
   "language": "python",
   "name": "python3"
  },
  "language_info": {
   "codemirror_mode": {
    "name": "ipython",
    "version": 3
   },
   "file_extension": ".py",
   "mimetype": "text/x-python",
   "name": "python",
   "nbconvert_exporter": "python",
   "pygments_lexer": "ipython3",
   "version": "3.8.5"
  }
 },
 "nbformat": 4,
 "nbformat_minor": 4
}
